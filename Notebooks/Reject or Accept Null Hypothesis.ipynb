{
 "cells": [
  {
   "cell_type": "code",
   "execution_count": 27,
   "metadata": {},
   "outputs": [],
   "source": [
    "from scipy.stats import norm\n",
    "from scipy import stats\n",
    "import numpy as np\n",
    "\n"
   ]
  },
  {
   "cell_type": "markdown",
   "metadata": {},
   "source": [
    "A neurologist is testing the effect of a drug on response time by injecting 100 rats with a unit dose of a drug, subjecting each to neurologist stimulus and recording its response time. The neurologist knows that the mean response time for rats not injected with the drug is 1.2 seconds. The mean of the 100 injected rats's response time is 1.05 seconds with population standard deviation of 0.5 seconds. Do you think the drug has effect on response time?"
   ]
  },
  {
   "cell_type": "code",
   "execution_count": 26,
   "metadata": {},
   "outputs": [
    {
     "name": "stdout",
     "output_type": "stream",
     "text": [
      "reject null hypothesis\n"
     ]
    }
   ],
   "source": [
    "def accept_reject_null(mu, sigma, significant_level, sample_mean, sample_std, sample_size):\n",
    "    sample_std = sigma / np.sqrt(sample_size)\n",
    "    z_score = (sample_mean - mu) / sample_std\n",
    "    p_value = 2 * norm.cdf(-np.abs(z_score))\n",
    "#     p_value = 2 * norm.sf(np.abs(z_score))\n",
    "\n",
    "    if p_value < significant_level:\n",
    "        print('reject null hypothesis')\n",
    "\n",
    "    else:\n",
    "        print('accept null hypothesis')\n",
    "    \n",
    "accept_reject_null(1.2,0.5,0.05,1.05,0,100)\n"
   ]
  },
  {
   "cell_type": "code",
   "execution_count": 32,
   "metadata": {},
   "outputs": [
    {
     "name": "stdout",
     "output_type": "stream",
     "text": [
      "accept null hypothesis\n"
     ]
    },
    {
     "data": {
      "text/plain": [
       "(2.295568968083183, 0.0498150834366641)"
      ]
     },
     "execution_count": 32,
     "metadata": {},
     "output_type": "execute_result"
    }
   ],
   "source": [
    "def accept_reject_null_no_sigma(mu, significant_level, sample_list):\n",
    "    s = np.std(sample_list, ddof=1)\n",
    "    sample_mean = np.array(sample_list).mean()\n",
    "    t_score = (sample_mean - mu) / (s / np.sqrt(len(sample_list))) \n",
    "    p_value = 2 * t_score * norm.sf(np.abs(t_score))\n",
    "    if t_score < significant_level:\n",
    "        print('reject null hypothesis')\n",
    "\n",
    "    else:\n",
    "        print('accept null hypothesis')\n",
    "\n",
    "x = [177.3, 182.7, 169.6, 176.3, 180.3, 179.4, 178.5, 177.2, 181.8, 176.5]\n",
    "accept_reject_null_no_sigma(175.3,0.05,x)"
   ]
  },
  {
   "cell_type": "code",
   "execution_count": 37,
   "metadata": {},
   "outputs": [],
   "source": [
    "def z_or_t_null_hypothesis(data_sample, mu, sigma, significant_level):\n",
    "    # if sigma is known\n",
    "    if sigma:\n",
    "        z_score = (np.mean(data_sample) - mu)/(sigma/np.sqrt(len(data_sample)))\n",
    "        p = scipy.stats.norm.sf(abs(z_score)) * 2\n",
    "\n",
    "    # if the data_sample is greater than 30 but no sigma     \n",
    "    elif len(data_sample) > 30:\n",
    "        z_score = (np.mean(data_sample) - mu)/(np/std(data_sample)/np.sqrt(len(data_sample)))\n",
    "        p = scipy.stats.norm.sf(abs(z_score)) * 2\n",
    "\n",
    "    # otherwise calculate the t-score\n",
    "    else:\n",
    "        t, p = stats.ttest_lsamp(data_sample, mu)\n",
    "        \n",
    "    if p < significant_level:\n",
    "        print('reject null hypothesis')\n",
    "\n",
    "    else:\n",
    "        print('accept null hypothesis')\n",
    "\n"
   ]
  },
  {
   "cell_type": "markdown",
   "metadata": {},
   "source": [
    "## Unpaired t-test\n",
    "https://iaingallagher.tumblr.com/post/50980987285/t-tests-in-python\n",
    "- The test compares two unrelated samples"
   ]
  },
  {
   "cell_type": "code",
   "execution_count": 41,
   "metadata": {},
   "outputs": [
    {
     "name": "stdout",
     "output_type": "stream",
     "text": [
      "The t-statistic is 3.588 and the p-value is 0.003.\n",
      "If we assume unequal variances than the t-statistic is 3.588 and the p-value is 0.004.\n"
     ]
    }
   ],
   "source": [
    "female = [63.8, 56.4, 55.2, 58.5, 64.0, 51.6, 54.6, 71.0]\n",
    "male = [75.5, 83.9, 75.7, 72.5, 56.2, 73.4, 67.7, 87.9]\n",
    "\n",
    "two_sample = stats.ttest_ind(male, female)\n",
    "\n",
    "print(\"The t-statistic is %.3f and the p-value is %.3f.\" % two_sample)\n",
    "\n",
    "# assuming unequal population variances\n",
    "two_sample_diff_var = stats.ttest_ind(male, female, equal_var=False)\n",
    "\n",
    "print(\"If we assume unequal variances than the t-statistic is %.3f and the p-value is %.3f.\" % two_sample_diff_var)"
   ]
  },
  {
   "cell_type": "markdown",
   "metadata": {},
   "source": [
    "## Binomial / Multimonial\n",
    "\n",
    "for example True, False"
   ]
  },
  {
   "cell_type": "code",
   "execution_count": null,
   "metadata": {},
   "outputs": [],
   "source": [
    "stats.binom_test(13, n=24, p=0.35, alternative='greater')"
   ]
  },
  {
   "cell_type": "code",
   "execution_count": null,
   "metadata": {},
   "outputs": [],
   "source": []
  }
 ],
 "metadata": {
  "kernelspec": {
   "display_name": "Python 3",
   "language": "python",
   "name": "python3"
  },
  "language_info": {
   "codemirror_mode": {
    "name": "ipython",
    "version": 3
   },
   "file_extension": ".py",
   "mimetype": "text/x-python",
   "name": "python",
   "nbconvert_exporter": "python",
   "pygments_lexer": "ipython3",
   "version": "3.7.4"
  }
 },
 "nbformat": 4,
 "nbformat_minor": 2
}
